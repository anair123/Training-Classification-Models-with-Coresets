{
 "cells": [
  {
   "cell_type": "code",
   "execution_count": 1,
   "metadata": {},
   "outputs": [],
   "source": [
    "import os\n",
    "import warnings\n",
    "import numpy as np\n",
    "import pandas as pd\n",
    "\n",
    "from sklearn.model_selection import train_test_split\n",
    "from sklearn.datasets import fetch_covtype\n",
    "from sklearn.preprocessing import StandardScaler, LabelEncoder, OneHotEncoder\n",
    "from sklearn.metrics import balanced_accuracy_score\n",
    "from dataheroes import CoresetTreeServiceDTC\n",
    "\n",
    "from sklearn.metrics import balanced_accuracy_score\n",
    "import xgboost as xgb\n"
   ]
  },
  {
   "attachments": {},
   "cell_type": "markdown",
   "metadata": {
    "tags": []
   },
   "source": [
    "## Prepare Data"
   ]
  },
  {
   "cell_type": "code",
   "execution_count": 22,
   "metadata": {},
   "outputs": [
    {
     "name": "stdout",
     "output_type": "stream",
     "text": [
      "Number of data points in the training data: 464809\n"
     ]
    }
   ],
   "source": [
    "# load the data\n",
    "X, y = fetch_covtype(return_X_y=True)\n",
    "\n",
    "\n",
    "# split the data into train and test sets\n",
    "X_train, X_test, y_train, y_test = train_test_split(X, y, test_size=0.2, random_state=42, stratify=y)\n",
    "print(f'Number of data points in the training data: {X_train.shape[0]}')\n"
   ]
  },
  {
   "cell_type": "code",
   "execution_count": 23,
   "metadata": {},
   "outputs": [],
   "source": [
    "# transform the training and test data\n",
    "ss = StandardScaler()\n",
    "X_train = ss.fit_transform(X_train)\n",
    "X_test = ss.transform(X_test)\n",
    "\n",
    "le = LabelEncoder()\n",
    "y_train = le.fit_transform(y_train)\n",
    "y_test = le.transform(y_test)"
   ]
  },
  {
   "attachments": {},
   "cell_type": "markdown",
   "metadata": {},
   "source": [
    "### Training with the Full Dataset"
   ]
  },
  {
   "cell_type": "code",
   "execution_count": 25,
   "metadata": {},
   "outputs": [
    {
     "name": "stdout",
     "output_type": "stream",
     "text": [
      "Balanced Accuracy Score: 0.8296036929211656\n"
     ]
    }
   ],
   "source": [
    "# train the model with the full training data\n",
    "full_dataset_model = xgb.XGBClassifier(random_state=42)\n",
    "full_dataset_model.fit(X_train, y_train)\n",
    "\n",
    "# generate predictions\n",
    "y_pred_full = full_dataset_model.predict(X_test)\n",
    "\n",
    "# evaluate the model\n",
    "full_balanced = balanced_accuracy_score(y_test, y_pred_full)\n",
    "print(f'Balanced Accuracy Score: {full_balanced}')\n"
   ]
  },
  {
   "cell_type": "code",
   "execution_count": 26,
   "metadata": {},
   "outputs": [
    {
     "name": "stdout",
     "output_type": "stream",
     "text": [
      "3min 5s ± 12 s per loop (mean ± std. dev. of 7 runs, 1 loop each)\n"
     ]
    }
   ],
   "source": [
    "%%timeit\n",
    "full_dataset_model = xgb.XGBClassifier(random_state=42)\n",
    "full_dataset_model.fit(X_train, y_train)"
   ]
  },
  {
   "attachments": {},
   "cell_type": "markdown",
   "metadata": {},
   "source": [
    "### Training with a Coreset"
   ]
  },
  {
   "cell_type": "code",
   "execution_count": 9,
   "metadata": {},
   "outputs": [
    {
     "data": {
      "text/plain": [
       "<dataheroes.services.coreset_tree.dtc.CoresetTreeServiceDTC at 0x2119332c640>"
      ]
     },
     "execution_count": 9,
     "metadata": {},
     "output_type": "execute_result"
    }
   ],
   "source": [
    "from dataheroes import CoresetTreeServiceDTC\n",
    "\n",
    "# Build the coreset tree\n",
    "service_obj = CoresetTreeServiceDTC(\n",
    "                                   optimized_for='training',\n",
    "                                   n_classes=7,\n",
    "                                   n_instances=X_train.shape[0]\n",
    "                                  )\n",
    "service_obj.build(X_train, y_train)"
   ]
  },
  {
   "cell_type": "code",
   "execution_count": 27,
   "metadata": {},
   "outputs": [
    {
     "name": "stdout",
     "output_type": "stream",
     "text": [
      "Number of samples in the coreset: 68856\n"
     ]
    }
   ],
   "source": [
    "# Get the coreset\n",
    "coreset = service_obj.get_coreset(level=5) # level=5\n",
    "indices, X_train_coreset, y_train_coreset = coreset['data']\n",
    "w = coreset['w']\n",
    "\n",
    "# Train a xgboost model on the coreset.\n",
    "coreset_model = xgb.XGBClassifier(random_state=42).fit(X_train_coreset, y_train_coreset, sample_weight=w)\n",
    "y_pred_coreset = coreset_model.predict(X_test)\n",
    "n_samples_coreset = y_train_coreset.shape[0]\n",
    "\n",
    "print(f'Number of samples in the coreset: {n_samples_coreset}')"
   ]
  },
  {
   "cell_type": "code",
   "execution_count": 28,
   "metadata": {},
   "outputs": [
    {
     "name": "stdout",
     "output_type": "stream",
     "text": [
      "Balanced score: 0.8388975901035508\n"
     ]
    }
   ],
   "source": [
    "\n",
    "# Evaluate model\n",
    "coreset_score = balanced_accuracy_score(y_test, y_pred_coreset) # target: 0.8296036929211656\n",
    "\n",
    "print(f\"Balanced score: {coreset_score}\")\n"
   ]
  },
  {
   "cell_type": "code",
   "execution_count": 29,
   "metadata": {},
   "outputs": [
    {
     "name": "stdout",
     "output_type": "stream",
     "text": [
      "25.9 s ± 1.77 s per loop (mean ± std. dev. of 7 runs, 1 loop each)\n"
     ]
    }
   ],
   "source": [
    "%%timeit\n",
    "\n",
    "# time the training process with the coreset\n",
    "coreset_model = xgb.XGBClassifier(random_state=42).fit(X_train_coreset, y_train_coreset, sample_weight=w)\n"
   ]
  },
  {
   "attachments": {},
   "cell_type": "markdown",
   "metadata": {},
   "source": [
    "### Training with a Sample"
   ]
  },
  {
   "cell_type": "code",
   "execution_count": 31,
   "metadata": {},
   "outputs": [
    {
     "name": "stdout",
     "output_type": "stream",
     "text": [
      "Balanced score: 0.7843310695650707\n"
     ]
    }
   ],
   "source": [
    "import random\n",
    "random.seed(42)\n",
    "\n",
    "\n",
    "sample_length = 68856\n",
    "\n",
    "# Create a list of indices\n",
    "indices = list(range(X_train.shape[0]))\n",
    "\n",
    "# Get a random sample of indices\n",
    "random_indices = random.sample(indices, sample_length)\n",
    "\n",
    "# Retrieve elements from both arrays using the random indices\n",
    "X_train_sample = np.array([X_train[i] for i in random_indices])\n",
    "y_train_sample = np.array([y_train[i] for i in random_indices])\n",
    "\n",
    "# train the model with the sample\n",
    "sample_model = xgb.XGBClassifier(random_state=42).fit(X_train_sample, y_train_sample)\n",
    "\n",
    "# evaluate the model\n",
    "sample_balanced = balanced_accuracy_score(y_test, sample_model.predict(X_test))\n",
    "\n",
    "print(f\"Balanced score: {sample_balanced}\")\n"
   ]
  },
  {
   "cell_type": "code",
   "execution_count": 19,
   "metadata": {},
   "outputs": [
    {
     "name": "stdout",
     "output_type": "stream",
     "text": [
      "25.6 s ± 1.79 s per loop (mean ± std. dev. of 7 runs, 1 loop each)\n"
     ]
    }
   ],
   "source": [
    "%%timeit \n",
    "\n",
    "# time the training with the random sample\n",
    "sample_model = xgb.XGBClassifier(random_state=42).fit(X_train_sample, y_train_sample)\n"
   ]
  },
  {
   "attachments": {},
   "cell_type": "markdown",
   "metadata": {},
   "source": [
    "### Summary"
   ]
  },
  {
   "cell_type": "code",
   "execution_count": 34,
   "metadata": {},
   "outputs": [
    {
     "data": {
      "text/html": [
       "<div>\n",
       "<style scoped>\n",
       "    .dataframe tbody tr th:only-of-type {\n",
       "        vertical-align: middle;\n",
       "    }\n",
       "\n",
       "    .dataframe tbody tr th {\n",
       "        vertical-align: top;\n",
       "    }\n",
       "\n",
       "    .dataframe thead th {\n",
       "        text-align: right;\n",
       "    }\n",
       "</style>\n",
       "<table border=\"1\" class=\"dataframe\">\n",
       "  <thead>\n",
       "    <tr style=\"text-align: right;\">\n",
       "      <th></th>\n",
       "      <th>Data</th>\n",
       "      <th>Number of Samples</th>\n",
       "      <th>Training Time</th>\n",
       "      <th>Balanced Accuracy Score</th>\n",
       "    </tr>\n",
       "  </thead>\n",
       "  <tbody>\n",
       "    <tr>\n",
       "      <th>0</th>\n",
       "      <td>Full Dataset</td>\n",
       "      <td>464,809</td>\n",
       "      <td>3min 5s</td>\n",
       "      <td>0.8296</td>\n",
       "    </tr>\n",
       "    <tr>\n",
       "      <th>1</th>\n",
       "      <td>Coreset</td>\n",
       "      <td>68,856</td>\n",
       "      <td>25.9 s</td>\n",
       "      <td>0.8388</td>\n",
       "    </tr>\n",
       "    <tr>\n",
       "      <th>2</th>\n",
       "      <td>Random Sample</td>\n",
       "      <td>68,856</td>\n",
       "      <td>25.6s</td>\n",
       "      <td>0.7843</td>\n",
       "    </tr>\n",
       "  </tbody>\n",
       "</table>\n",
       "</div>"
      ],
      "text/plain": [
       "            Data Number of Samples Training Time Balanced Accuracy Score\n",
       "0   Full Dataset           464,809       3min 5s                  0.8296\n",
       "1        Coreset            68,856        25.9 s                  0.8388\n",
       "2  Random Sample            68,856         25.6s                  0.7843"
      ]
     },
     "execution_count": 34,
     "metadata": {},
     "output_type": "execute_result"
    }
   ],
   "source": [
    "# summarize the data with a data frame\n",
    "data = [['Full Dataset', '464,809', '3min 5s', '0.8296'],\n",
    "        ['Coreset', '68,856', '25.9 s', '0.8388'],\n",
    "        ['Random Sample', '68,856','25.6s', '0.7843']\n",
    "] \n",
    "\n",
    "pd.DataFrame(data, columns = ['Data', 'Number of Samples', 'Training Time', 'Balanced Accuracy Score'])"
   ]
  },
  {
   "attachments": {},
   "cell_type": "markdown",
   "metadata": {},
   "source": []
  }
 ],
 "metadata": {
  "kernelspec": {
   "display_name": "Python 3 (ipykernel)",
   "language": "python",
   "name": "python3"
  },
  "language_info": {
   "codemirror_mode": {
    "name": "ipython",
    "version": 3
   },
   "file_extension": ".py",
   "mimetype": "text/x-python",
   "name": "python",
   "nbconvert_exporter": "python",
   "pygments_lexer": "ipython3",
   "version": "3.9.13"
  }
 },
 "nbformat": 4,
 "nbformat_minor": 4
}
